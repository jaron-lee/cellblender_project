{
 "metadata": {
  "name": "",
  "signature": "sha256:c5c9c41579ef2eaa069d8dbb7f621b298ef5e77f064fa29bef6f9db9107cc158"
 },
 "nbformat": 3,
 "nbformat_minor": 0,
 "worksheets": [
  {
   "cells": [
    {
     "cell_type": "markdown",
     "metadata": {},
     "source": [
      "# Running the CellBlender Visualisation for Simulation of Calcium ion Activity at Neuron Synapse\n"
     ]
    },
    {
     "cell_type": "markdown",
     "metadata": {},
     "source": [
      "The visualisation will only work if all the instructions are followed precisely. Ensure that all steps from the tutorial document have been completed."
     ]
    },
    {
     "cell_type": "markdown",
     "metadata": {},
     "source": [
      "## Step 0 \n",
      " Run the following cell before doing anything else. In the cell below that, fill in the entries with settings appropriate to your choice of model."
     ]
    },
    {
     "cell_type": "code",
     "collapsed": false,
     "input": [
      "import numpy as np\n",
      "import sys, string, os\n",
      "import fileinput\n",
      "import ast\n",
      "import glob"
     ],
     "language": "python",
     "metadata": {},
     "outputs": [],
     "prompt_number": 1
    },
    {
     "cell_type": "code",
     "collapsed": false,
     "input": [
      "#Things to manually enter\n",
      "\n",
      "#Declare file location (up to mcell)\n",
      "\n",
      "path = '/Users/Jaron/Dropbox/Work 2015/SCNC2103/czech_tutorial/bouton_v3_files/mcell' #path of the first part of simulation\n",
      "path_2 = '/Users/Jaron/Dropbox/Work 2015/SCNC2103/czech_tutorial/bouton_v4_files/mcell' #path of second part of simulation\n",
      "\n",
      "base_name = 'Scene' #The default name is Scene (check under 'Project Settings' in Blender)\n",
      "\n",
      "#Define names of vesicles - these names must match the CellBlender assigned names.\n",
      "vesicle_names = ['Vesicle_1', 'Vesicle_2']\n",
      "\n",
      "#Define number of tag molecules required to activate vesicle\n",
      "num_tag = 3\n",
      "\n"
     ],
     "language": "python",
     "metadata": {},
     "outputs": [],
     "prompt_number": 2
    },
    {
     "cell_type": "markdown",
     "metadata": {},
     "source": [
      "## Step 1\n",
      "Complete all the required steps as per the tutorial document. This constitutes part 1 of the project - simulating the presynaptic activity of the synapse. Then, after selecting 'Decouple Export and Run', hit the 'Export CellBlender Project' button.\n",
      "\n",
      "##Step 2\n",
      "Run the following cells, up to step 3."
     ]
    },
    {
     "cell_type": "code",
     "collapsed": false,
     "input": [
      "#Change output from CellBlender to ASCII\n",
      "path_viz = path + '/' + base_name + '.viz_output.mdl'\n",
      "\n",
      "for line in fileinput.input(path_viz, inplace=True):\n",
      "    print(line.replace('CELLBLENDER', 'ASCII'), end='')"
     ],
     "language": "python",
     "metadata": {},
     "outputs": [],
     "prompt_number": 7
    },
    {
     "cell_type": "markdown",
     "metadata": {},
     "source": [
      "## Step 3\n",
      "Return to Blender and hit the 'Run Simulation' button. This simulation may take some time.\n",
      "\n",
      "## Step 4\n",
      "Once the simulation is complete, run the following cells."
     ]
    },
    {
     "cell_type": "code",
     "collapsed": false,
     "input": [
      "#Define path of geometry file for the location of the vesicles\n",
      "path_geometry = path + '/' + base_name +  '.geometry.mdl'\n",
      "\n",
      "vesicle_list = [list() for item in vesicle_names]\n",
      "\n",
      "with open(path_geometry, 'r') as geom_file:\n",
      "    copy = False\n",
      "    trigger = False\n",
      "    for count, line in enumerate(geom_file):\n",
      "        line_list = line.split()\n",
      "        if line_list:\n",
      "            if line_list[0] in vesicle_names:\n",
      "                item_number = vesicle_names.index(line_list[0])\n",
      "                trigger = True\n",
      "            elif line_list[0] == 'VERTEX_LIST' and trigger:\n",
      "                copy = True\n",
      "            elif line_list[0] == 'ELEMENT_CONNECTIONS':\n",
      "                copy = False\n",
      "                trigger = False\n",
      "            elif copy and trigger:\n",
      "                if line_list[0] == '{' or line_list[0] == '}':\n",
      "                    pass\n",
      "                else:    \n",
      "                    final_line = ast.literal_eval(line.strip())\n",
      "                    vesicle_list[item_number].append(final_line)\n",
      "vesicle_centres = []   \n",
      "vesicle_radius = []\n",
      "for item in vesicle_list:\n",
      "    vesicle_array = np.asarray(item)\n",
      "    vesicle_centre = np.mean(vesicle_array, axis=0)\n",
      "    vesicle_centres.append(vesicle_centre)\n",
      "#    print(vesicle_centre)\n",
      "    vesicle_radius.append(np.max(np.linalg.norm(vesicle_array - vesicle_centre, axis=1)))\n",
      "                \n",
      "vesicle_centres = np.asarray(vesicle_centres) \n",
      "vesicle_radius = np.asarray(vesicle_radius)\n",
      "print(vesicle_centres)\n",
      "print(vesicle_radius)\n",
      "\n",
      "\n",
      "    \n",
      "            "
     ],
     "language": "python",
     "metadata": {},
     "outputs": [
      {
       "output_type": "stream",
       "stream": "stdout",
       "text": [
        "[[ 0.10661277 -0.01878943  0.06973622]\n",
        " [-0.10338722  0.01121057  0.06973622]]\n",
        "[ 0.02  0.02]\n"
       ]
      }
     ],
     "prompt_number": 9
    },
    {
     "cell_type": "code",
     "collapsed": false,
     "input": [
      "#Scanning over the viz files for appearances of TAG molecules\n",
      "path_data = path + '/viz_data' + '/*/*'\n",
      "viz_files = glob.glob(path_data)\n",
      "\n",
      "activation_frames = [list() for item in vesicle_names]\n",
      "\n",
      "for entry in viz_files:\n",
      "    with open(entry, 'r') as data:\n",
      "        position_list = []\n",
      "        for count, line in enumerate(data):\n",
      "            line_list = line.split()\n",
      "            if line_list[0] == 'TAG':\n",
      "                position = [float(x) for x in line_list[2:5]]\n",
      "                position_list.append(position)\n",
      "        position_array = np.asarray(position_list)\n",
      "        if position_array.size:\n",
      "            for count, item in enumerate(vesicle_centres):\n",
      "                if not activation_frames[count]:\n",
      "                    distance = np.linalg.norm(position_array - vesicle_centres[count,:], axis=1)\n",
      "                    tag_count = distance < vesicle_radius[count] + 10e-5 #extra leeway on the radius of the vesicle\n",
      "                    if np.sum(tag_count) >= num_tag:\n",
      "                        activation_frames[count].append(entry)\n",
      "                \n",
      "                \n",
      "            \n",
      "print(activation_frames)\n",
      "            \n",
      "                \n",
      "                "
     ],
     "language": "python",
     "metadata": {},
     "outputs": [
      {
       "output_type": "stream",
       "stream": "stdout",
       "text": [
        "[[], ['/Users/Jaron/Dropbox/Work 2015/SCNC2103/czech_tutorial/bouton_v3_files/mcell/viz_data/seed_00001/Scene.ascii.00461.dat']]\n"
       ]
      }
     ],
     "prompt_number": 10
    },
    {
     "cell_type": "markdown",
     "metadata": {},
     "source": [
      "## Step 5\n",
      "We start part 2 - the simulation of the postsynaptic activity. In this step, we define release patterns of molecules at the times we noted down in the previous step. This is to be done in another CellBlender simulation file. This part will be automated at a later time - for now, manually define the release patterns and release times using the above information. \n",
      "\n",
      "To do this, first make a note of the Scene frame number at which the vesicles are considered to be released. The first number will correspond to the first vesicle, the second number to the second vesicle and so on.\n",
      "\n",
      "Under 'Release Pattern' in CellBlender create a release pattern for each vesicle. Under the entry 'Release Pattern Delay', enter the scene number multiplied by the time step defined earlier in the model. Repeat for each vesicle. Under 'Release Interval', set the value to 200e-6.\n",
      "\n",
      "Under 'Molecule Release and Placement', create a release site for each vesicle. Set the release shape to spherical, enter the x,y,z coordinates for each vesicle by reading off the values for the 'vesicle centres' from above. Subtract a small quantity from the z-coordinate (0.04 units) so that the release site is slightly below the vesicle. Finally set the quantity to release to be a large quantity (4700).\n",
      "\n",
      "Export the files, and then run the following script. "
     ]
    },
    {
     "cell_type": "code",
     "collapsed": false,
     "input": [
      "#Change output from CellBlender to ASCII\n",
      "path_viz_2 = path_2 + '/' + base_name + '.viz_output.mdl'\n",
      "\n",
      "for line in fileinput.input(path_viz_2, inplace=True):\n",
      "    print(line.replace('CELLBLENDER', 'ASCII'), end='')"
     ],
     "language": "python",
     "metadata": {},
     "outputs": [],
     "prompt_number": 18
    },
    {
     "cell_type": "markdown",
     "metadata": {},
     "source": [
      "Run the simulation in the second CellBlender file."
     ]
    },
    {
     "cell_type": "markdown",
     "metadata": {},
     "source": [
      "## Step 6\n",
      "Here we combine the two simulations into one. "
     ]
    },
    {
     "cell_type": "code",
     "collapsed": false,
     "input": [
      "viz_combined = os.path.dirname(os.path.dirname(path)) + '/viz_combined'\n",
      "if not os.stat(viz_combined):\n",
      "    os.mkdir(viz_combined)\n",
      "\n",
      "viz_files_1 = glob.glob(path + '/viz_data/*/*')\n",
      "viz_files_2 = glob.glob(path_2 + '/viz_data/*/*')\n",
      "\n",
      "#print(viz_files_1)\n",
      "#print(viz_files_2)\n",
      "if len(viz_files_1) != len(viz_files_2):\n",
      "    print(len(viz_files_1), len(viz_files_2))\n",
      "    print('Simulation lengths are not the same!')\n",
      "\n",
      "for count, item in enumerate(viz_files_1):\n",
      "    combined_name = viz_combined + '/' + item.split('/')[-1]\n",
      "    with open(combined_name, 'w') as out_file:\n",
      "        with open(viz_files_1[count], 'r') as viz_1, open(viz_files_2[count], 'r') as viz_2:\n",
      "            out_file.write(viz_1.read())\n",
      "            out_file.write(viz_2.read())\n",
      "            \n",
      "        \n",
      "\n"
     ],
     "language": "python",
     "metadata": {},
     "outputs": [],
     "prompt_number": 13
    },
    {
     "cell_type": "markdown",
     "metadata": {},
     "source": [
      "## Step 7\n",
      "Create a new empty Blender file. Under 'Visualize Simulation Results' enable the 'Manually Select Viz Directory' option and then select the 'viz_combined' directory (which should be in the same folder as the .blend files for the first two parts).\n",
      "\n",
      "This will import all the molecules, but not the model geometry. To see the geometry, select 'File -> Append' and go to the .blend file for either the first or second part. Go to 'Objects' and select everything that is part of the model geometry (nothing that begins with mol, or molecule).\n",
      "\n",
      "The result should be a fully combined model."
     ]
    }
   ],
   "metadata": {}
  }
 ]
}